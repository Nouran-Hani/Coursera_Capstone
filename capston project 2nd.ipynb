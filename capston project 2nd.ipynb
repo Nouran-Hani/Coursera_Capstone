{
  "nbformat": 4,
  "nbformat_minor": 0,
  "metadata": {
    "colab": {
      "name": "Untitled0.ipynb",
      "provenance": [],
      "collapsed_sections": []
    },
    "kernelspec": {
      "name": "python3",
      "display_name": "Python 3"
    }
  },
  "cells": [
    {
      "cell_type": "code",
      "metadata": {
        "id": "iL0XgQmIJmbe",
        "colab_type": "code",
        "colab": {}
      },
      "source": [
        ""
      ],
      "execution_count": null,
      "outputs": []
    },
    {
      "cell_type": "markdown",
      "metadata": {
        "id": "WBB50GgJJ1IS",
        "colab_type": "text"
      },
      "source": [
        "# Introduction: **Egyptian Restaurants in New Work.**"
      ]
    },
    {
      "cell_type": "markdown",
      "metadata": {
        "id": "8xS-ITX9Kld_",
        "colab_type": "text"
      },
      "source": [
        "In this project I'm going to explore the best Egyptian restaurants in New Work. I will explore the rating, likes and tips, according to the previus we will get the best Egyptian resturant in Work. It will help many people to try the Egyptian food without any risks.\n"
      ]
    },
    {
      "cell_type": "markdown",
      "metadata": {
        "id": "us0nE6tSRlpW",
        "colab_type": "text"
      },
      "source": [
        "# Data\n",
        "Accoring to the introduction I need to:\n",
        "\n",
        "\n",
        "*   Find the Egyptian restaurants in New Work.\n",
        "*   Explore thier rating, likes and tips.\n",
        "*   Conclude the best restaurants.\n",
        "\n",
        "\n"
      ]
    },
    {
      "cell_type": "markdown",
      "metadata": {
        "id": "Cw7O3mODSMlc",
        "colab_type": "text"
      },
      "source": [
        "# Sources \n",
        "\n",
        "*   https://cocl.us/new_york_dataset : to get the data.\n",
        "*   Foursquare API: to get all the venues in each neighborhood. We can filter these venues to get only Egyptian resturants.\n",
        "*   GeoSpace data : to visualize the data.\n",
        "\n",
        "\n"
      ]
    }
  ]
}