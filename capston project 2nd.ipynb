{
  "nbformat": 4,
  "nbformat_minor": 0,
  "metadata": {
    "colab": {
      "name": "Untitled0.ipynb",
      "provenance": [],
      "collapsed_sections": []
    },
    "kernelspec": {
      "name": "python3",
      "display_name": "Python 3"
    }
  },
  "cells": [
    {
      "cell_type": "markdown",
      "metadata": {
        "id": "WBB50GgJJ1IS",
        "colab_type": "text"
      },
      "source": [
        "# Introduction: **Egyptian Restaurants in New York.**"
      ]
    },
    {
      "cell_type": "markdown",
      "metadata": {
        "id": "8xS-ITX9Kld_",
        "colab_type": "text"
      },
      "source": [
        "In this project I'm going to explore the best Egyptian restaurants in New York. I will explore the rating, likes and tips, according to the previus we will get the best Egyptian resturant in New York. It will help many people to try the Egyptian food without any risks.\n"
      ]
    },
    {
      "cell_type": "markdown",
      "metadata": {
        "id": "DCjZSuuFd2My",
        "colab_type": "text"
      },
      "source": [
        "# Data\n",
        "Accoring to the introduction I need to:\n",
        "\n",
        "\n",
        "*  Find the Egyptian restaurants in New Work.\n",
        "*  Explore thier rating, likes and tips.\n",
        "*  Conclude the best restaurants.\n",
        "\n"
      ]
    },
    {
      "cell_type": "markdown",
      "metadata": {
        "id": "e45LLx71eV84",
        "colab_type": "text"
      },
      "source": [
        "# Sources \n",
        "*  https://cocl.us/new_york_dataset : to get the data.\n",
        "*  Foursquare API: to get all the venues in each neighborhood. We can filter these venues to get only Egyptian resturants.\n",
        "*  GeoSpace data : to visualize the data."
      ]
    }
  ]
}