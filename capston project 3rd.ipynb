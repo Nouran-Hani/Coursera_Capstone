{
  "nbformat": 4,
  "nbformat_minor": 0,
  "metadata": {
    "colab": {
      "name": "Untitled1.ipynb",
      "provenance": []
    },
    "kernelspec": {
      "name": "python3",
      "display_name": "Python 3"
    }
  },
  "cells": [
    {
      "cell_type": "code",
      "metadata": {
        "id": "oI_Yva4KbmeI",
        "colab_type": "code",
        "colab": {}
      },
      "source": [
        "# importing the important libraries"
      ],
      "execution_count": 1,
      "outputs": []
    },
    {
      "cell_type": "code",
      "metadata": {
        "id": "tNtmvQyLbvHB",
        "colab_type": "code",
        "colab": {}
      },
      "source": [
        "import requests # library to handle requests\n",
        "import pandas as pd # library for data analsysis\n",
        "import numpy as np # library to handle data in a vectorized manner\n",
        "import folium # plotting library\n",
        "from pandas.io.json import json_normalize # tranforming json file into a pandas dataframe library\n",
        "from geopy.geocoders import Nominatim # module to convert an address into latitude and longitude values\n",
        "# libraries for displaying images\n",
        "from IPython.display import Image \n",
        "from IPython.core.display import HTML \n"
      ],
      "execution_count": 7,
      "outputs": []
    },
    {
      "cell_type": "code",
      "metadata": {
        "id": "ya3h7ORHcfhl",
        "colab_type": "code",
        "colab": {}
      },
      "source": [
        "# important info for the API"
      ],
      "execution_count": 4,
      "outputs": []
    },
    {
      "cell_type": "code",
      "metadata": {
        "id": "t2aOalr5ct9V",
        "colab_type": "code",
        "colab": {}
      },
      "source": [
        "CLIENT_ID = 'DMN1ABJNSVBWYCXMG2WFGSOZYP4HZLRBMNFBHXHN3IYUE3NJ' # my Foursquare ID\n",
        "CLIENT_SECRET = 'IUXOE5DSTR3YSEGLWZOJQBGZ2NTQG2VHO1XQRYY2MHSTC5XW' # my Foursquare Secret\n",
        "VERSION = '20180604'\n"
      ],
      "execution_count": 5,
      "outputs": []
    },
    {
      "cell_type": "code",
      "metadata": {
        "id": "kIJgJ5Vlc23F",
        "colab_type": "code",
        "colab": {
          "base_uri": "https://localhost:8080/",
          "height": 34
        },
        "outputId": "324fa6cb-fd4f-419b-e141-da0be997c203"
      },
      "source": [
        "# Getting the longitude and latitude oa New York\n",
        "address = 'New York'\n",
        "geolocator = Nominatim(user_agent=\"foursquare_agent\")\n",
        "location = geolocator.geocode(address)\n",
        "latitude = location.latitude\n",
        "longitude = location.longitude\n",
        "print(latitude, longitude)"
      ],
      "execution_count": 9,
      "outputs": [
        {
          "output_type": "stream",
          "text": [
            "40.7127281 -74.0060152\n"
          ],
          "name": "stdout"
        }
      ]
    },
    {
      "cell_type": "code",
      "metadata": {
        "id": "TeNtJA8sfJFk",
        "colab_type": "code",
        "colab": {}
      },
      "source": [
        "# function to get the data of new york\n",
        "def get_new_york_data():\n",
        "    url='https://cocl.us/new_york_dataset'\n",
        "    results=requests.get(url).json()\n",
        "    # all data is present in features label\n",
        "    features=results['features']\n",
        "    \n",
        "    # define the dataframe columns\n",
        "    column_names = ['Borough', 'Neighborhood', 'Latitude', 'Longitude'] \n",
        "    # making the dataframe\n",
        "    new_york_data = pd.DataFrame(columns=column_names)\n",
        "    \n",
        "    for data in features:\n",
        "        borough = data['properties']['borough'] \n",
        "        neighborhood_name = data['properties']['name']\n",
        "        \n",
        "        neighborhood_latlon = data['geometry']['coordinates']\n",
        "        neighborhood_lat = neighborhood_latlon[1]\n",
        "        neighborhood_lon = neighborhood_latlon[0]\n",
        "    \n",
        "        new_york_data = new_york_data.append({'Borough': borough,\n",
        "                                          'Neighborhood': neighborhood_name,\n",
        "                                          'Latitude': neighborhood_lat,\n",
        "                                          'Longitude': neighborhood_lon}, ignore_index=True)\n",
        "    \n",
        "    return new_york_data\n"
      ],
      "execution_count": 21,
      "outputs": []
    },
    {
      "cell_type": "code",
      "metadata": {
        "id": "hDIS0UDEiRAC",
        "colab_type": "code",
        "colab": {
          "base_uri": "https://localhost:8080/",
          "height": 419
        },
        "outputId": "fc9f2653-7605-4ea2-fd21-7542a05bc3d3"
      },
      "source": [
        "new_york_data=get_new_york_data()\n",
        "new_york_data"
      ],
      "execution_count": 24,
      "outputs": [
        {
          "output_type": "execute_result",
          "data": {
            "text/html": [
              "<div>\n",
              "<style scoped>\n",
              "    .dataframe tbody tr th:only-of-type {\n",
              "        vertical-align: middle;\n",
              "    }\n",
              "\n",
              "    .dataframe tbody tr th {\n",
              "        vertical-align: top;\n",
              "    }\n",
              "\n",
              "    .dataframe thead th {\n",
              "        text-align: right;\n",
              "    }\n",
              "</style>\n",
              "<table border=\"1\" class=\"dataframe\">\n",
              "  <thead>\n",
              "    <tr style=\"text-align: right;\">\n",
              "      <th></th>\n",
              "      <th>Borough</th>\n",
              "      <th>Neighborhood</th>\n",
              "      <th>Latitude</th>\n",
              "      <th>Longitude</th>\n",
              "    </tr>\n",
              "  </thead>\n",
              "  <tbody>\n",
              "    <tr>\n",
              "      <th>0</th>\n",
              "      <td>Bronx</td>\n",
              "      <td>Wakefield</td>\n",
              "      <td>40.894705</td>\n",
              "      <td>-73.847201</td>\n",
              "    </tr>\n",
              "    <tr>\n",
              "      <th>1</th>\n",
              "      <td>Bronx</td>\n",
              "      <td>Co-op City</td>\n",
              "      <td>40.874294</td>\n",
              "      <td>-73.829939</td>\n",
              "    </tr>\n",
              "    <tr>\n",
              "      <th>2</th>\n",
              "      <td>Bronx</td>\n",
              "      <td>Eastchester</td>\n",
              "      <td>40.887556</td>\n",
              "      <td>-73.827806</td>\n",
              "    </tr>\n",
              "    <tr>\n",
              "      <th>3</th>\n",
              "      <td>Bronx</td>\n",
              "      <td>Fieldston</td>\n",
              "      <td>40.895437</td>\n",
              "      <td>-73.905643</td>\n",
              "    </tr>\n",
              "    <tr>\n",
              "      <th>4</th>\n",
              "      <td>Bronx</td>\n",
              "      <td>Riverdale</td>\n",
              "      <td>40.890834</td>\n",
              "      <td>-73.912585</td>\n",
              "    </tr>\n",
              "    <tr>\n",
              "      <th>...</th>\n",
              "      <td>...</td>\n",
              "      <td>...</td>\n",
              "      <td>...</td>\n",
              "      <td>...</td>\n",
              "    </tr>\n",
              "    <tr>\n",
              "      <th>301</th>\n",
              "      <td>Manhattan</td>\n",
              "      <td>Hudson Yards</td>\n",
              "      <td>40.756658</td>\n",
              "      <td>-74.000111</td>\n",
              "    </tr>\n",
              "    <tr>\n",
              "      <th>302</th>\n",
              "      <td>Queens</td>\n",
              "      <td>Hammels</td>\n",
              "      <td>40.587338</td>\n",
              "      <td>-73.805530</td>\n",
              "    </tr>\n",
              "    <tr>\n",
              "      <th>303</th>\n",
              "      <td>Queens</td>\n",
              "      <td>Bayswater</td>\n",
              "      <td>40.611322</td>\n",
              "      <td>-73.765968</td>\n",
              "    </tr>\n",
              "    <tr>\n",
              "      <th>304</th>\n",
              "      <td>Queens</td>\n",
              "      <td>Queensbridge</td>\n",
              "      <td>40.756091</td>\n",
              "      <td>-73.945631</td>\n",
              "    </tr>\n",
              "    <tr>\n",
              "      <th>305</th>\n",
              "      <td>Staten Island</td>\n",
              "      <td>Fox Hills</td>\n",
              "      <td>40.617311</td>\n",
              "      <td>-74.081740</td>\n",
              "    </tr>\n",
              "  </tbody>\n",
              "</table>\n",
              "<p>306 rows × 4 columns</p>\n",
              "</div>"
            ],
            "text/plain": [
              "           Borough  Neighborhood   Latitude  Longitude\n",
              "0            Bronx     Wakefield  40.894705 -73.847201\n",
              "1            Bronx    Co-op City  40.874294 -73.829939\n",
              "2            Bronx   Eastchester  40.887556 -73.827806\n",
              "3            Bronx     Fieldston  40.895437 -73.905643\n",
              "4            Bronx     Riverdale  40.890834 -73.912585\n",
              "..             ...           ...        ...        ...\n",
              "301      Manhattan  Hudson Yards  40.756658 -74.000111\n",
              "302         Queens       Hammels  40.587338 -73.805530\n",
              "303         Queens     Bayswater  40.611322 -73.765968\n",
              "304         Queens  Queensbridge  40.756091 -73.945631\n",
              "305  Staten Island     Fox Hills  40.617311 -74.081740\n",
              "\n",
              "[306 rows x 4 columns]"
            ]
          },
          "metadata": {
            "tags": []
          },
          "execution_count": 24
        }
      ]
    },
    {
      "cell_type": "code",
      "metadata": {
        "id": "FUihCQc9iTY9",
        "colab_type": "code",
        "colab": {}
      },
      "source": [
        "# function to intract with FourSquare API and get top 100 venues\n",
        "def get_venues(lat,lng):\n",
        "    \n",
        "    #set variables\n",
        "    radius = 500\n",
        "    LIMIT=100\n",
        "\n",
        "    #url to fetch data from foursquare api\n",
        "    url = 'https://api.foursquare.com/v2/venues/explore?&client_id={}&client_secret={}&v={}&ll={},{}&radius={}&limit={}'.format(\n",
        "            CLIENT_ID, \n",
        "            CLIENT_SECRET, \n",
        "            VERSION, \n",
        "            lat, \n",
        "            lng,\n",
        "            radius, \n",
        "            LIMIT)\n",
        "    \n",
        "    # get all the data\n",
        "    results = requests.get(url).json()\n",
        "    venue_data=results[\"response\"]['groups'][0]['items']\n",
        "    venue_details=[]\n",
        "    for row in venue_data:\n",
        "        try:\n",
        "            venue_id=row['venue']['id']\n",
        "            venue_name=row['venue']['name']\n",
        "            venue_category=row['venue']['categories'][0]['name']\n",
        "            venue_details.append([venue_id,venue_name,venue_category])\n",
        "        except KeyError:\n",
        "            pass\n",
        "        \n",
        "    column_names=['ID','Name','Category']\n",
        "    df = pd.DataFrame(venue_details,columns=column_names)\n",
        "    return df\n"
      ],
      "execution_count": 30,
      "outputs": []
    },
    {
      "cell_type": "code",
      "metadata": {
        "id": "xmQJwdlLj_W7",
        "colab_type": "code",
        "colab": {}
      },
      "source": [
        "# getting the Egyptian restaurant in New York\n",
        "column_names=['Borough', 'Neighborhood', 'ID','Name']\n",
        "egyptian=pd.DataFrame(columns=column_names)\n",
        "count=1\n",
        "for row in new_york_data.values.tolist():\n",
        "    Borough, Neighborhood, Latitude, Longitude=row\n",
        "    venues = get_venues(Latitude,Longitude)\n",
        "    egyptian_resturants=venues[venues['Category']=='Egyptian Restaurant']   \n",
        "    print('(',count,'/',len(new_york_data),')','Egyptian Resturants in '+Neighborhood+', '+Borough+':'+str(len(egyptian_resturants)))\n",
        "    for resturant_detail in egyptian_resturants.values.tolist():\n",
        "        id, name , category=resturant_detail\n",
        "        egyptian = egyptian.append({'Borough': Borough,\n",
        "                                                'Neighborhood': Neighborhood, \n",
        "                                                'ID': id,\n",
        "                                                'Name' : name\n",
        "                                               }, ignore_index=True)\n",
        "    count+=1\n"
      ],
      "execution_count": null,
      "outputs": []
    },
    {
      "cell_type": "code",
      "metadata": {
        "id": "_93OfkCZliQx",
        "colab_type": "code",
        "colab": {
          "base_uri": "https://localhost:8080/",
          "height": 142
        },
        "outputId": "fa8bbaa7-0119-4521-ce0f-d48e89c0e3dc"
      },
      "source": [
        "egyptian"
      ],
      "execution_count": 32,
      "outputs": [
        {
          "output_type": "execute_result",
          "data": {
            "text/html": [
              "<div>\n",
              "<style scoped>\n",
              "    .dataframe tbody tr th:only-of-type {\n",
              "        vertical-align: middle;\n",
              "    }\n",
              "\n",
              "    .dataframe tbody tr th {\n",
              "        vertical-align: top;\n",
              "    }\n",
              "\n",
              "    .dataframe thead th {\n",
              "        text-align: right;\n",
              "    }\n",
              "</style>\n",
              "<table border=\"1\" class=\"dataframe\">\n",
              "  <thead>\n",
              "    <tr style=\"text-align: right;\">\n",
              "      <th></th>\n",
              "      <th>Borough</th>\n",
              "      <th>Neighborhood</th>\n",
              "      <th>ID</th>\n",
              "      <th>Name</th>\n",
              "    </tr>\n",
              "  </thead>\n",
              "  <tbody>\n",
              "    <tr>\n",
              "      <th>0</th>\n",
              "      <td>Manhattan</td>\n",
              "      <td>Little Italy</td>\n",
              "      <td>5d8e37f352f64b000873b779</td>\n",
              "      <td>Zooba</td>\n",
              "    </tr>\n",
              "    <tr>\n",
              "      <th>1</th>\n",
              "      <td>Manhattan</td>\n",
              "      <td>Soho</td>\n",
              "      <td>5d8e37f352f64b000873b779</td>\n",
              "      <td>Zooba</td>\n",
              "    </tr>\n",
              "    <tr>\n",
              "      <th>2</th>\n",
              "      <td>Queens</td>\n",
              "      <td>Ridgewood</td>\n",
              "      <td>550b13c6498e8b5069630cee</td>\n",
              "      <td>Little Egypt</td>\n",
              "    </tr>\n",
              "  </tbody>\n",
              "</table>\n",
              "</div>"
            ],
            "text/plain": [
              "     Borough  Neighborhood                        ID          Name\n",
              "0  Manhattan  Little Italy  5d8e37f352f64b000873b779         Zooba\n",
              "1  Manhattan          Soho  5d8e37f352f64b000873b779         Zooba\n",
              "2     Queens     Ridgewood  550b13c6498e8b5069630cee  Little Egypt"
            ]
          },
          "metadata": {
            "tags": []
          },
          "execution_count": 32
        }
      ]
    },
    {
      "cell_type": "code",
      "metadata": {
        "id": "qiKzBDo0u6pV",
        "colab_type": "code",
        "colab": {}
      },
      "source": [
        "# Their are only 3 restaurants."
      ],
      "execution_count": null,
      "outputs": []
    },
    {
      "cell_type": "code",
      "metadata": {
        "id": "1X9kGHOXojFi",
        "colab_type": "code",
        "colab": {}
      },
      "source": [
        "# gets the details of the venue\n",
        "def get_venue_details(venue_id):\n",
        "        \n",
        "    url = 'https://api.foursquare.com/v2/venues/{}?&client_id={}&client_secret={}&v={}'.format(\n",
        "            venue_id,\n",
        "            CLIENT_ID, \n",
        "            CLIENT_SECRET, \n",
        "            VERSION)\n",
        "    \n",
        "    # get all the data\n",
        "    results = requests.get(url).json()\n",
        "    venue_data=results['response']['venue']\n",
        "    venue_details=[]\n",
        "    try:\n",
        "        venue_id=venue_data['id']\n",
        "        venue_name=venue_data['name']\n",
        "        venue_likes=venue_data['likes']['count']\n",
        "        venue_rating=venue_data['rating']\n",
        "        venue_tips=venue_data['tips']['count']\n",
        "        venue_details.append([venue_id,venue_name,venue_likes,venue_rating,venue_tips])\n",
        "    except KeyError:\n",
        "        pass\n",
        "        \n",
        "    column_names=['ID','Name','Likes','Rating','Tips']\n",
        "    df = pd.DataFrame(venue_details,columns=column_names)\n",
        "    return df\n"
      ],
      "execution_count": 34,
      "outputs": []
    },
    {
      "cell_type": "code",
      "metadata": {
        "id": "x52izXTsnji9",
        "colab_type": "code",
        "colab": {
          "base_uri": "https://localhost:8080/",
          "height": 170
        },
        "outputId": "d10c5517-1df4-4bc3-fcc1-1d249c351295"
      },
      "source": [
        "# we can now get the likes, tips and rating of the 3 restaurants\n",
        "column_names=['Borough', 'Neighborhood', 'ID','Name','Likes','Rating','Tips']\n",
        "egyptian_stats=pd.DataFrame(columns=column_names)\n",
        "count=1\n",
        "\n",
        "\n",
        "for row in egyptian.values.tolist():\n",
        "    Borough,Neighborhood,ID,Name=row\n",
        "    try:\n",
        "        venue_details=get_venue_details(ID)\n",
        "        print(venue_details)\n",
        "        id,name,likes,rating,tips=venue_details.values.tolist()[0]\n",
        "    except IndexError:\n",
        "        print('No data available for id=',ID)\n",
        "        # we will assign 0 value for these resturants as they may have been \n",
        "        #recently opened or details does not exist in FourSquare Database\n",
        "        id,name,likes,rating,tips=[0]*5\n",
        "    print('(',count,'/',len(egyptian),')','processed')\n",
        "    egyptian_stats = egyptian_stats.append({'Borough': Borough,\n",
        "                                                'Neighborhood': Neighborhood, \n",
        "                                                'ID': id,\n",
        "                                                'Name' : name,\n",
        "                                                'Likes' : likes,\n",
        "                                                'Rating' : rating,\n",
        "                                                'Tips' : tips\n",
        "                                               }, ignore_index=True)\n",
        "    count+=1\n"
      ],
      "execution_count": 38,
      "outputs": [
        {
          "output_type": "stream",
          "text": [
            "                         ID   Name  Likes  Rating  Tips\n",
            "0  5d8e37f352f64b000873b779  Zooba     52     8.4    16\n",
            "( 1 / 3 ) processed\n",
            "                         ID   Name  Likes  Rating  Tips\n",
            "0  5d8e37f352f64b000873b779  Zooba     52     8.4    16\n",
            "( 2 / 3 ) processed\n",
            "                         ID          Name  Likes  Rating  Tips\n",
            "0  550b13c6498e8b5069630cee  Little Egypt     11     8.1     4\n",
            "( 3 / 3 ) processed\n"
          ],
          "name": "stdout"
        }
      ]
    },
    {
      "cell_type": "code",
      "metadata": {
        "id": "ZI7ZVfSAo486",
        "colab_type": "code",
        "colab": {
          "base_uri": "https://localhost:8080/",
          "height": 142
        },
        "outputId": "5237ea2e-8fc3-4259-c96d-e9993d3fa1fd"
      },
      "source": [
        "egyptian_stats"
      ],
      "execution_count": 39,
      "outputs": [
        {
          "output_type": "execute_result",
          "data": {
            "text/html": [
              "<div>\n",
              "<style scoped>\n",
              "    .dataframe tbody tr th:only-of-type {\n",
              "        vertical-align: middle;\n",
              "    }\n",
              "\n",
              "    .dataframe tbody tr th {\n",
              "        vertical-align: top;\n",
              "    }\n",
              "\n",
              "    .dataframe thead th {\n",
              "        text-align: right;\n",
              "    }\n",
              "</style>\n",
              "<table border=\"1\" class=\"dataframe\">\n",
              "  <thead>\n",
              "    <tr style=\"text-align: right;\">\n",
              "      <th></th>\n",
              "      <th>Borough</th>\n",
              "      <th>Neighborhood</th>\n",
              "      <th>ID</th>\n",
              "      <th>Name</th>\n",
              "      <th>Likes</th>\n",
              "      <th>Rating</th>\n",
              "      <th>Tips</th>\n",
              "    </tr>\n",
              "  </thead>\n",
              "  <tbody>\n",
              "    <tr>\n",
              "      <th>0</th>\n",
              "      <td>Manhattan</td>\n",
              "      <td>Little Italy</td>\n",
              "      <td>5d8e37f352f64b000873b779</td>\n",
              "      <td>Zooba</td>\n",
              "      <td>52</td>\n",
              "      <td>8.4</td>\n",
              "      <td>16</td>\n",
              "    </tr>\n",
              "    <tr>\n",
              "      <th>1</th>\n",
              "      <td>Manhattan</td>\n",
              "      <td>Soho</td>\n",
              "      <td>5d8e37f352f64b000873b779</td>\n",
              "      <td>Zooba</td>\n",
              "      <td>52</td>\n",
              "      <td>8.4</td>\n",
              "      <td>16</td>\n",
              "    </tr>\n",
              "    <tr>\n",
              "      <th>2</th>\n",
              "      <td>Queens</td>\n",
              "      <td>Ridgewood</td>\n",
              "      <td>550b13c6498e8b5069630cee</td>\n",
              "      <td>Little Egypt</td>\n",
              "      <td>11</td>\n",
              "      <td>8.1</td>\n",
              "      <td>4</td>\n",
              "    </tr>\n",
              "  </tbody>\n",
              "</table>\n",
              "</div>"
            ],
            "text/plain": [
              "     Borough  Neighborhood                        ID  ... Likes Rating  Tips\n",
              "0  Manhattan  Little Italy  5d8e37f352f64b000873b779  ...    52    8.4    16\n",
              "1  Manhattan          Soho  5d8e37f352f64b000873b779  ...    52    8.4    16\n",
              "2     Queens     Ridgewood  550b13c6498e8b5069630cee  ...    11    8.1     4\n",
              "\n",
              "[3 rows x 7 columns]"
            ]
          },
          "metadata": {
            "tags": []
          },
          "execution_count": 39
        }
      ]
    },
    {
      "cell_type": "code",
      "metadata": {
        "id": "0AfC6DDmqsv1",
        "colab_type": "code",
        "colab": {}
      },
      "source": [
        "# save it to reduce the API calls as it is limited.\n",
        "egyptian_stats.to_csv('egyptian_stats.csv', index=False)"
      ],
      "execution_count": 51,
      "outputs": []
    },
    {
      "cell_type": "code",
      "metadata": {
        "id": "ZvntlhnRqvM5",
        "colab_type": "code",
        "colab": {
          "base_uri": "https://localhost:8080/",
          "height": 142
        },
        "outputId": "f999ee43-d4dd-4292-d93f-8eb7cc02c2d8"
      },
      "source": [
        "egyptian_stats = pd.read_csv('egyptian_stats.csv')\n",
        "egyptian_stats"
      ],
      "execution_count": 54,
      "outputs": [
        {
          "output_type": "execute_result",
          "data": {
            "text/html": [
              "<div>\n",
              "<style scoped>\n",
              "    .dataframe tbody tr th:only-of-type {\n",
              "        vertical-align: middle;\n",
              "    }\n",
              "\n",
              "    .dataframe tbody tr th {\n",
              "        vertical-align: top;\n",
              "    }\n",
              "\n",
              "    .dataframe thead th {\n",
              "        text-align: right;\n",
              "    }\n",
              "</style>\n",
              "<table border=\"1\" class=\"dataframe\">\n",
              "  <thead>\n",
              "    <tr style=\"text-align: right;\">\n",
              "      <th></th>\n",
              "      <th>Borough</th>\n",
              "      <th>Neighborhood</th>\n",
              "      <th>ID</th>\n",
              "      <th>Name</th>\n",
              "      <th>Likes</th>\n",
              "      <th>Rating</th>\n",
              "      <th>Tips</th>\n",
              "    </tr>\n",
              "  </thead>\n",
              "  <tbody>\n",
              "    <tr>\n",
              "      <th>0</th>\n",
              "      <td>Manhattan</td>\n",
              "      <td>Little Italy</td>\n",
              "      <td>5d8e37f352f64b000873b779</td>\n",
              "      <td>Zooba</td>\n",
              "      <td>52</td>\n",
              "      <td>8.4</td>\n",
              "      <td>16</td>\n",
              "    </tr>\n",
              "    <tr>\n",
              "      <th>1</th>\n",
              "      <td>Manhattan</td>\n",
              "      <td>Soho</td>\n",
              "      <td>5d8e37f352f64b000873b779</td>\n",
              "      <td>Zooba</td>\n",
              "      <td>52</td>\n",
              "      <td>8.4</td>\n",
              "      <td>16</td>\n",
              "    </tr>\n",
              "    <tr>\n",
              "      <th>2</th>\n",
              "      <td>Queens</td>\n",
              "      <td>Ridgewood</td>\n",
              "      <td>550b13c6498e8b5069630cee</td>\n",
              "      <td>Little Egypt</td>\n",
              "      <td>11</td>\n",
              "      <td>8.1</td>\n",
              "      <td>4</td>\n",
              "    </tr>\n",
              "  </tbody>\n",
              "</table>\n",
              "</div>"
            ],
            "text/plain": [
              "     Borough  Neighborhood                        ID  ... Likes  Rating  Tips\n",
              "0  Manhattan  Little Italy  5d8e37f352f64b000873b779  ...    52     8.4    16\n",
              "1  Manhattan          Soho  5d8e37f352f64b000873b779  ...    52     8.4    16\n",
              "2     Queens     Ridgewood  550b13c6498e8b5069630cee  ...    11     8.1     4\n",
              "\n",
              "[3 rows x 7 columns]"
            ]
          },
          "metadata": {
            "tags": []
          },
          "execution_count": 54
        }
      ]
    },
    {
      "cell_type": "code",
      "metadata": {
        "id": "Ij4mgp64ud8T",
        "colab_type": "code",
        "colab": {
          "base_uri": "https://localhost:8080/",
          "height": 68
        },
        "outputId": "7b755f08-bd63-4c52-d1db-11c9734ed47a"
      },
      "source": [
        "# adding the location of each restaurant\n",
        "def loca(address2):\n",
        "  geolocator2 = Nominatim(user_agent=\"foursquare_agent\")\n",
        "  location2 = geolocator2.geocode(address2)\n",
        "  latitude2 = location2.latitude\n",
        "  longitude2 = location2.longitude\n",
        "  print(latitude2, longitude2)\n",
        "\n",
        "loca('Little Italy, manhattan, NY')\n",
        "loca('Soho, manhattan, NY')\n",
        "loca('Ridgewood, Queens, NY')\n",
        "\n"
      ],
      "execution_count": 82,
      "outputs": [
        {
          "output_type": "stream",
          "text": [
            "40.7192728 -73.9982152\n",
            "40.72288 -73.9987505\n",
            "40.68912345 -73.88646349029689\n"
          ],
          "name": "stdout"
        }
      ]
    },
    {
      "cell_type": "code",
      "metadata": {
        "id": "kTNbyNWsyXtJ",
        "colab_type": "code",
        "colab": {
          "base_uri": "https://localhost:8080/",
          "height": 142
        },
        "outputId": "33d75da8-e0b0-4da1-d566-3cc9bcec3fb1"
      },
      "source": [
        "data = [[40.7192728, -73.9982152], [40.72288, -73.9987505], [40.68912345, -73.88646349029689]] \n",
        "df = pd.DataFrame(data, columns=[\"Latitude\", \"Longitude\"])\n",
        "df"
      ],
      "execution_count": 84,
      "outputs": [
        {
          "output_type": "execute_result",
          "data": {
            "text/html": [
              "<div>\n",
              "<style scoped>\n",
              "    .dataframe tbody tr th:only-of-type {\n",
              "        vertical-align: middle;\n",
              "    }\n",
              "\n",
              "    .dataframe tbody tr th {\n",
              "        vertical-align: top;\n",
              "    }\n",
              "\n",
              "    .dataframe thead th {\n",
              "        text-align: right;\n",
              "    }\n",
              "</style>\n",
              "<table border=\"1\" class=\"dataframe\">\n",
              "  <thead>\n",
              "    <tr style=\"text-align: right;\">\n",
              "      <th></th>\n",
              "      <th>Latitude</th>\n",
              "      <th>Longitude</th>\n",
              "    </tr>\n",
              "  </thead>\n",
              "  <tbody>\n",
              "    <tr>\n",
              "      <th>0</th>\n",
              "      <td>40.719273</td>\n",
              "      <td>-73.998215</td>\n",
              "    </tr>\n",
              "    <tr>\n",
              "      <th>1</th>\n",
              "      <td>40.722880</td>\n",
              "      <td>-73.998750</td>\n",
              "    </tr>\n",
              "    <tr>\n",
              "      <th>2</th>\n",
              "      <td>40.689123</td>\n",
              "      <td>-73.886463</td>\n",
              "    </tr>\n",
              "  </tbody>\n",
              "</table>\n",
              "</div>"
            ],
            "text/plain": [
              "    Latitude  Longitude\n",
              "0  40.719273 -73.998215\n",
              "1  40.722880 -73.998750\n",
              "2  40.689123 -73.886463"
            ]
          },
          "metadata": {
            "tags": []
          },
          "execution_count": 84
        }
      ]
    },
    {
      "cell_type": "code",
      "metadata": {
        "id": "Yo2gnnHqysyb",
        "colab_type": "code",
        "colab": {
          "base_uri": "https://localhost:8080/",
          "height": 142
        },
        "outputId": "534b4589-aafc-4f35-c45c-7f0604257211"
      },
      "source": [
        "egyptian_stats2 = egyptian_stats.assign(Latitude = df[\"Latitude\"], Longitude = df[\"Longitude\"])\n",
        "egyptian_stats2"
      ],
      "execution_count": 87,
      "outputs": [
        {
          "output_type": "execute_result",
          "data": {
            "text/html": [
              "<div>\n",
              "<style scoped>\n",
              "    .dataframe tbody tr th:only-of-type {\n",
              "        vertical-align: middle;\n",
              "    }\n",
              "\n",
              "    .dataframe tbody tr th {\n",
              "        vertical-align: top;\n",
              "    }\n",
              "\n",
              "    .dataframe thead th {\n",
              "        text-align: right;\n",
              "    }\n",
              "</style>\n",
              "<table border=\"1\" class=\"dataframe\">\n",
              "  <thead>\n",
              "    <tr style=\"text-align: right;\">\n",
              "      <th></th>\n",
              "      <th>Borough</th>\n",
              "      <th>Neighborhood</th>\n",
              "      <th>ID</th>\n",
              "      <th>Name</th>\n",
              "      <th>Likes</th>\n",
              "      <th>Rating</th>\n",
              "      <th>Tips</th>\n",
              "      <th>Latitude</th>\n",
              "      <th>Longitude</th>\n",
              "    </tr>\n",
              "  </thead>\n",
              "  <tbody>\n",
              "    <tr>\n",
              "      <th>0</th>\n",
              "      <td>Manhattan</td>\n",
              "      <td>Little Italy</td>\n",
              "      <td>5d8e37f352f64b000873b779</td>\n",
              "      <td>Zooba</td>\n",
              "      <td>52</td>\n",
              "      <td>8.4</td>\n",
              "      <td>16</td>\n",
              "      <td>40.719273</td>\n",
              "      <td>-73.998215</td>\n",
              "    </tr>\n",
              "    <tr>\n",
              "      <th>1</th>\n",
              "      <td>Manhattan</td>\n",
              "      <td>Soho</td>\n",
              "      <td>5d8e37f352f64b000873b779</td>\n",
              "      <td>Zooba</td>\n",
              "      <td>52</td>\n",
              "      <td>8.4</td>\n",
              "      <td>16</td>\n",
              "      <td>40.722880</td>\n",
              "      <td>-73.998750</td>\n",
              "    </tr>\n",
              "    <tr>\n",
              "      <th>2</th>\n",
              "      <td>Queens</td>\n",
              "      <td>Ridgewood</td>\n",
              "      <td>550b13c6498e8b5069630cee</td>\n",
              "      <td>Little Egypt</td>\n",
              "      <td>11</td>\n",
              "      <td>8.1</td>\n",
              "      <td>4</td>\n",
              "      <td>40.689123</td>\n",
              "      <td>-73.886463</td>\n",
              "    </tr>\n",
              "  </tbody>\n",
              "</table>\n",
              "</div>"
            ],
            "text/plain": [
              "     Borough  Neighborhood  ...   Latitude  Longitude\n",
              "0  Manhattan  Little Italy  ...  40.719273 -73.998215\n",
              "1  Manhattan          Soho  ...  40.722880 -73.998750\n",
              "2     Queens     Ridgewood  ...  40.689123 -73.886463\n",
              "\n",
              "[3 rows x 9 columns]"
            ]
          },
          "metadata": {
            "tags": []
          },
          "execution_count": 87
        }
      ]
    },
    {
      "cell_type": "code",
      "metadata": {
        "id": "JfA8iyWKpV84",
        "colab_type": "code",
        "colab": {
          "base_uri": "https://localhost:8080/",
          "height": 153
        },
        "outputId": "c07502e0-7c23-4445-9f09-a38e30cb0416"
      },
      "source": [
        "# the highest num of likes\n",
        "egyptian_stats2.iloc[egyptian_stats['Likes'].idxmax()]"
      ],
      "execution_count": 55,
      "outputs": [
        {
          "output_type": "execute_result",
          "data": {
            "text/plain": [
              "Borough                        Manhattan\n",
              "Neighborhood                Little Italy\n",
              "ID              5d8e37f352f64b000873b779\n",
              "Name                               Zooba\n",
              "Likes                                 52\n",
              "Rating                               8.4\n",
              "Tips                                  16\n",
              "Name: 0, dtype: object"
            ]
          },
          "metadata": {
            "tags": []
          },
          "execution_count": 55
        }
      ]
    },
    {
      "cell_type": "code",
      "metadata": {
        "id": "qh_SOGXkqATj",
        "colab_type": "code",
        "colab": {
          "base_uri": "https://localhost:8080/",
          "height": 153
        },
        "outputId": "b88b4dea-416b-4897-9b3d-484bc0cb0b74"
      },
      "source": [
        "# the lowest num of likes \n",
        "egyptian_stats2.iloc[egyptian_stats['Likes'].idxmin()]"
      ],
      "execution_count": 60,
      "outputs": [
        {
          "output_type": "execute_result",
          "data": {
            "text/plain": [
              "Borough                           Queens\n",
              "Neighborhood                   Ridgewood\n",
              "ID              550b13c6498e8b5069630cee\n",
              "Name                        Little Egypt\n",
              "Likes                                 11\n",
              "Rating                               8.1\n",
              "Tips                                   4\n",
              "Name: 2, dtype: object"
            ]
          },
          "metadata": {
            "tags": []
          },
          "execution_count": 60
        }
      ]
    },
    {
      "cell_type": "code",
      "metadata": {
        "id": "Cj329Gnbrww0",
        "colab_type": "code",
        "colab": {
          "base_uri": "https://localhost:8080/",
          "height": 153
        },
        "outputId": "360b5d38-aff4-4e62-b46b-ddf7f96373f0"
      },
      "source": [
        "# the highest num of tips\n",
        "egyptian_stats2.iloc[egyptian_stats['Tips'].idxmax()]"
      ],
      "execution_count": 61,
      "outputs": [
        {
          "output_type": "execute_result",
          "data": {
            "text/plain": [
              "Borough                        Manhattan\n",
              "Neighborhood                Little Italy\n",
              "ID              5d8e37f352f64b000873b779\n",
              "Name                               Zooba\n",
              "Likes                                 52\n",
              "Rating                               8.4\n",
              "Tips                                  16\n",
              "Name: 0, dtype: object"
            ]
          },
          "metadata": {
            "tags": []
          },
          "execution_count": 61
        }
      ]
    },
    {
      "cell_type": "code",
      "metadata": {
        "id": "4yl_EYC4sPrB",
        "colab_type": "code",
        "colab": {
          "base_uri": "https://localhost:8080/",
          "height": 153
        },
        "outputId": "822db633-75ec-49b2-b0dd-32b9b4a12912"
      },
      "source": [
        "# the lowest num of tips\n",
        "egyptian_stats2.iloc[egyptian_stats['Tips'].idxmin()]"
      ],
      "execution_count": 62,
      "outputs": [
        {
          "output_type": "execute_result",
          "data": {
            "text/plain": [
              "Borough                           Queens\n",
              "Neighborhood                   Ridgewood\n",
              "ID              550b13c6498e8b5069630cee\n",
              "Name                        Little Egypt\n",
              "Likes                                 11\n",
              "Rating                               8.1\n",
              "Tips                                   4\n",
              "Name: 2, dtype: object"
            ]
          },
          "metadata": {
            "tags": []
          },
          "execution_count": 62
        }
      ]
    },
    {
      "cell_type": "code",
      "metadata": {
        "id": "yR5WTpQksUKX",
        "colab_type": "code",
        "colab": {
          "base_uri": "https://localhost:8080/",
          "height": 153
        },
        "outputId": "cd289e6f-481a-4204-edcc-643414d15b6f"
      },
      "source": [
        "# the highest rating\n",
        "egyptian_stats2.iloc[egyptian_stats['Rating'].idxmax()]"
      ],
      "execution_count": 63,
      "outputs": [
        {
          "output_type": "execute_result",
          "data": {
            "text/plain": [
              "Borough                        Manhattan\n",
              "Neighborhood                Little Italy\n",
              "ID              5d8e37f352f64b000873b779\n",
              "Name                               Zooba\n",
              "Likes                                 52\n",
              "Rating                               8.4\n",
              "Tips                                  16\n",
              "Name: 0, dtype: object"
            ]
          },
          "metadata": {
            "tags": []
          },
          "execution_count": 63
        }
      ]
    },
    {
      "cell_type": "code",
      "metadata": {
        "id": "mUf2a2J4seX-",
        "colab_type": "code",
        "colab": {
          "base_uri": "https://localhost:8080/",
          "height": 153
        },
        "outputId": "ba49002a-046b-4b86-b709-b3dc63aa5995"
      },
      "source": [
        "# finally the lowest rating\n",
        "egyptian_stats2.iloc[egyptian_stats['Rating'].idxmin()]"
      ],
      "execution_count": 64,
      "outputs": [
        {
          "output_type": "execute_result",
          "data": {
            "text/plain": [
              "Borough                           Queens\n",
              "Neighborhood                   Ridgewood\n",
              "ID              550b13c6498e8b5069630cee\n",
              "Name                        Little Egypt\n",
              "Likes                                 11\n",
              "Rating                               8.1\n",
              "Tips                                   4\n",
              "Name: 2, dtype: object"
            ]
          },
          "metadata": {
            "tags": []
          },
          "execution_count": 64
        }
      ]
    },
    {
      "cell_type": "code",
      "metadata": {
        "id": "sIDXGL_psk6d",
        "colab_type": "code",
        "colab": {
          "base_uri": "https://localhost:8080/",
          "height": 712
        },
        "outputId": "c6e3f929-43e9-48e3-b7da-c94239f162ce"
      },
      "source": [
        "# lets visualize our data\n",
        "\n",
        "rest_map = folium.Map(location=(latitude, longitude), zoom_start=12)\n",
        "\n",
        "incidents = folium.map.FeatureGroup()\n",
        "\n",
        "\n",
        "for lat, lng, in egyptian_stats2[['Latitude','Longitude']].values:\n",
        "    incidents.add_child(\n",
        "        folium.CircleMarker(\n",
        "            [lat, lng],\n",
        "            radius=10, # define how big you want the circle markers to be\n",
        "            color='yellow',\n",
        "            fill=True,\n",
        "            fill_color='blue',\n",
        "            fill_opacity=0.6\n",
        "        )\n",
        "    )\n",
        "rest_map.add_child(incidents)\n"
      ],
      "execution_count": 89,
      "outputs": [
        {
          "output_type": "execute_result",
          "data": {
            "text/html": [
              "<div style=\"width:100%;\"><div style=\"position:relative;width:100%;height:0;padding-bottom:60%;\"><span style=\"color:#565656\">Make this Notebook Trusted to load map: File -> Trust Notebook</span><iframe src=\"about:blank\" style=\"position:absolute;width:100%;height:100%;left:0;top:0;border:none !important;\" data-html=PCFET0NUWVBFIGh0bWw+CjxoZWFkPiAgICAKICAgIDxtZXRhIGh0dHAtZXF1aXY9ImNvbnRlbnQtdHlwZSIgY29udGVudD0idGV4dC9odG1sOyBjaGFyc2V0PVVURi04IiAvPgogICAgPHNjcmlwdD5MX1BSRUZFUl9DQU5WQVM9ZmFsc2U7IExfTk9fVE9VQ0g9ZmFsc2U7IExfRElTQUJMRV8zRD1mYWxzZTs8L3NjcmlwdD4KICAgIDxzY3JpcHQgc3JjPSJodHRwczovL2Nkbi5qc2RlbGl2ci5uZXQvbnBtL2xlYWZsZXRAMS40LjAvZGlzdC9sZWFmbGV0LmpzIj48L3NjcmlwdD4KICAgIDxzY3JpcHQgc3JjPSJodHRwczovL2NvZGUuanF1ZXJ5LmNvbS9qcXVlcnktMS4xMi40Lm1pbi5qcyI+PC9zY3JpcHQ+CiAgICA8c2NyaXB0IHNyYz0iaHR0cHM6Ly9tYXhjZG4uYm9vdHN0cmFwY2RuLmNvbS9ib290c3RyYXAvMy4yLjAvanMvYm9vdHN0cmFwLm1pbi5qcyI+PC9zY3JpcHQ+CiAgICA8c2NyaXB0IHNyYz0iaHR0cHM6Ly9jZG5qcy5jbG91ZGZsYXJlLmNvbS9hamF4L2xpYnMvTGVhZmxldC5hd2Vzb21lLW1hcmtlcnMvMi4wLjIvbGVhZmxldC5hd2Vzb21lLW1hcmtlcnMuanMiPjwvc2NyaXB0PgogICAgPGxpbmsgcmVsPSJzdHlsZXNoZWV0IiBocmVmPSJodHRwczovL2Nkbi5qc2RlbGl2ci5uZXQvbnBtL2xlYWZsZXRAMS40LjAvZGlzdC9sZWFmbGV0LmNzcyIvPgogICAgPGxpbmsgcmVsPSJzdHlsZXNoZWV0IiBocmVmPSJodHRwczovL21heGNkbi5ib290c3RyYXBjZG4uY29tL2Jvb3RzdHJhcC8zLjIuMC9jc3MvYm9vdHN0cmFwLm1pbi5jc3MiLz4KICAgIDxsaW5rIHJlbD0ic3R5bGVzaGVldCIgaHJlZj0iaHR0cHM6Ly9tYXhjZG4uYm9vdHN0cmFwY2RuLmNvbS9ib290c3RyYXAvMy4yLjAvY3NzL2Jvb3RzdHJhcC10aGVtZS5taW4uY3NzIi8+CiAgICA8bGluayByZWw9InN0eWxlc2hlZXQiIGhyZWY9Imh0dHBzOi8vbWF4Y2RuLmJvb3RzdHJhcGNkbi5jb20vZm9udC1hd2Vzb21lLzQuNi4zL2Nzcy9mb250LWF3ZXNvbWUubWluLmNzcyIvPgogICAgPGxpbmsgcmVsPSJzdHlsZXNoZWV0IiBocmVmPSJodHRwczovL2NkbmpzLmNsb3VkZmxhcmUuY29tL2FqYXgvbGlicy9MZWFmbGV0LmF3ZXNvbWUtbWFya2Vycy8yLjAuMi9sZWFmbGV0LmF3ZXNvbWUtbWFya2Vycy5jc3MiLz4KICAgIDxsaW5rIHJlbD0ic3R5bGVzaGVldCIgaHJlZj0iaHR0cHM6Ly9yYXdjZG4uZ2l0aGFjay5jb20vcHl0aG9uLXZpc3VhbGl6YXRpb24vZm9saXVtL21hc3Rlci9mb2xpdW0vdGVtcGxhdGVzL2xlYWZsZXQuYXdlc29tZS5yb3RhdGUuY3NzIi8+CiAgICA8c3R5bGU+aHRtbCwgYm9keSB7d2lkdGg6IDEwMCU7aGVpZ2h0OiAxMDAlO21hcmdpbjogMDtwYWRkaW5nOiAwO308L3N0eWxlPgogICAgPHN0eWxlPiNtYXAge3Bvc2l0aW9uOmFic29sdXRlO3RvcDowO2JvdHRvbTowO3JpZ2h0OjA7bGVmdDowO308L3N0eWxlPgogICAgCiAgICA8bWV0YSBuYW1lPSJ2aWV3cG9ydCIgY29udGVudD0id2lkdGg9ZGV2aWNlLXdpZHRoLAogICAgICAgIGluaXRpYWwtc2NhbGU9MS4wLCBtYXhpbXVtLXNjYWxlPTEuMCwgdXNlci1zY2FsYWJsZT1ubyIgLz4KICAgIDxzdHlsZT4jbWFwX2UxODgwODcwODk2MTQxNmM4Mjc2ZjIzYmFlN2IxZjY3IHsKICAgICAgICBwb3NpdGlvbjogcmVsYXRpdmU7CiAgICAgICAgd2lkdGg6IDEwMC4wJTsKICAgICAgICBoZWlnaHQ6IDEwMC4wJTsKICAgICAgICBsZWZ0OiAwLjAlOwogICAgICAgIHRvcDogMC4wJTsKICAgICAgICB9CiAgICA8L3N0eWxlPgo8L2hlYWQ+Cjxib2R5PiAgICAKICAgIAogICAgPGRpdiBjbGFzcz0iZm9saXVtLW1hcCIgaWQ9Im1hcF9lMTg4MDg3MDg5NjE0MTZjODI3NmYyM2JhZTdiMWY2NyIgPjwvZGl2Pgo8L2JvZHk+CjxzY3JpcHQ+ICAgIAogICAgCiAgICAKICAgICAgICB2YXIgYm91bmRzID0gbnVsbDsKICAgIAoKICAgIHZhciBtYXBfZTE4ODA4NzA4OTYxNDE2YzgyNzZmMjNiYWU3YjFmNjcgPSBMLm1hcCgKICAgICAgICAnbWFwX2UxODgwODcwODk2MTQxNmM4Mjc2ZjIzYmFlN2IxZjY3JywgewogICAgICAgIGNlbnRlcjogWzQwLjcxMjcyODEsIC03NC4wMDYwMTUyXSwKICAgICAgICB6b29tOiAxMiwKICAgICAgICBtYXhCb3VuZHM6IGJvdW5kcywKICAgICAgICBsYXllcnM6IFtdLAogICAgICAgIHdvcmxkQ29weUp1bXA6IGZhbHNlLAogICAgICAgIGNyczogTC5DUlMuRVBTRzM4NTcsCiAgICAgICAgem9vbUNvbnRyb2w6IHRydWUsCiAgICAgICAgfSk7CgoKICAgIAogICAgdmFyIHRpbGVfbGF5ZXJfMzMwNDNjODU1MmNhNGFmYjk5ZTEzOGJmYzAxNzA1ZmMgPSBMLnRpbGVMYXllcigKICAgICAgICAnaHR0cHM6Ly97c30udGlsZS5vcGVuc3RyZWV0bWFwLm9yZy97en0ve3h9L3t5fS5wbmcnLAogICAgICAgIHsKICAgICAgICAiYXR0cmlidXRpb24iOiBudWxsLAogICAgICAgICJkZXRlY3RSZXRpbmEiOiBmYWxzZSwKICAgICAgICAibWF4TmF0aXZlWm9vbSI6IDE4LAogICAgICAgICJtYXhab29tIjogMTgsCiAgICAgICAgIm1pblpvb20iOiAwLAogICAgICAgICJub1dyYXAiOiBmYWxzZSwKICAgICAgICAib3BhY2l0eSI6IDEsCiAgICAgICAgInN1YmRvbWFpbnMiOiAiYWJjIiwKICAgICAgICAidG1zIjogZmFsc2UKfSkuYWRkVG8obWFwX2UxODgwODcwODk2MTQxNmM4Mjc2ZjIzYmFlN2IxZjY3KTsKICAgIAogICAgICAgICAgICB2YXIgZmVhdHVyZV9ncm91cF8yZGFkZGUzYzhmM2Q0OWI1OWY1MzBjYmNiNmI4NTE0YiA9IEwuZmVhdHVyZUdyb3VwKAogICAgICAgICAgICAgICAgKS5hZGRUbyhtYXBfZTE4ODA4NzA4OTYxNDE2YzgyNzZmMjNiYWU3YjFmNjcpOwogICAgICAgIAogICAgCiAgICAgICAgICAgIHZhciBjaXJjbGVfbWFya2VyXzM2ZDNlYjFhODA5OTQ1MDNhNjM0NDA1ZWM2MzBlYzllID0gTC5jaXJjbGVNYXJrZXIoCiAgICAgICAgICAgICAgICBbNDAuNzE5MjcyOCwgLTczLjk5ODIxNTJdLAogICAgICAgICAgICAgICAgewogICJidWJibGluZ01vdXNlRXZlbnRzIjogdHJ1ZSwKICAiY29sb3IiOiAieWVsbG93IiwKICAiZGFzaEFycmF5IjogbnVsbCwKICAiZGFzaE9mZnNldCI6IG51bGwsCiAgImZpbGwiOiB0cnVlLAogICJmaWxsQ29sb3IiOiAiYmx1ZSIsCiAgImZpbGxPcGFjaXR5IjogMC42LAogICJmaWxsUnVsZSI6ICJldmVub2RkIiwKICAibGluZUNhcCI6ICJyb3VuZCIsCiAgImxpbmVKb2luIjogInJvdW5kIiwKICAib3BhY2l0eSI6IDEuMCwKICAicmFkaXVzIjogMTAsCiAgInN0cm9rZSI6IHRydWUsCiAgIndlaWdodCI6IDMKfQogICAgICAgICAgICAgICAgKQogICAgICAgICAgICAgICAgLmFkZFRvKGZlYXR1cmVfZ3JvdXBfMmRhZGRlM2M4ZjNkNDliNTlmNTMwY2JjYjZiODUxNGIpOwogICAgICAgICAgICAKICAgIAogICAgICAgICAgICB2YXIgY2lyY2xlX21hcmtlcl9mYzMzYzcxYTA4ZjA0N2U4YTZkODUxMjI1YTEwNTU1NiA9IEwuY2lyY2xlTWFya2VyKAogICAgICAgICAgICAgICAgWzQwLjcyMjg4LCAtNzMuOTk4NzUwNV0sCiAgICAgICAgICAgICAgICB7CiAgImJ1YmJsaW5nTW91c2VFdmVudHMiOiB0cnVlLAogICJjb2xvciI6ICJ5ZWxsb3ciLAogICJkYXNoQXJyYXkiOiBudWxsLAogICJkYXNoT2Zmc2V0IjogbnVsbCwKICAiZmlsbCI6IHRydWUsCiAgImZpbGxDb2xvciI6ICJibHVlIiwKICAiZmlsbE9wYWNpdHkiOiAwLjYsCiAgImZpbGxSdWxlIjogImV2ZW5vZGQiLAogICJsaW5lQ2FwIjogInJvdW5kIiwKICAibGluZUpvaW4iOiAicm91bmQiLAogICJvcGFjaXR5IjogMS4wLAogICJyYWRpdXMiOiAxMCwKICAic3Ryb2tlIjogdHJ1ZSwKICAid2VpZ2h0IjogMwp9CiAgICAgICAgICAgICAgICApCiAgICAgICAgICAgICAgICAuYWRkVG8oZmVhdHVyZV9ncm91cF8yZGFkZGUzYzhmM2Q0OWI1OWY1MzBjYmNiNmI4NTE0Yik7CiAgICAgICAgICAgIAogICAgCiAgICAgICAgICAgIHZhciBjaXJjbGVfbWFya2VyXzM5YmJmNWQxMzQxMjRkMzdiYWJkNmUyODZkNTQ4NTA4ID0gTC5jaXJjbGVNYXJrZXIoCiAgICAgICAgICAgICAgICBbNDAuNjg5MTIzNDUsIC03My44ODY0NjM0OTAyOTY4OV0sCiAgICAgICAgICAgICAgICB7CiAgImJ1YmJsaW5nTW91c2VFdmVudHMiOiB0cnVlLAogICJjb2xvciI6ICJ5ZWxsb3ciLAogICJkYXNoQXJyYXkiOiBudWxsLAogICJkYXNoT2Zmc2V0IjogbnVsbCwKICAiZmlsbCI6IHRydWUsCiAgImZpbGxDb2xvciI6ICJibHVlIiwKICAiZmlsbE9wYWNpdHkiOiAwLjYsCiAgImZpbGxSdWxlIjogImV2ZW5vZGQiLAogICJsaW5lQ2FwIjogInJvdW5kIiwKICAibGluZUpvaW4iOiAicm91bmQiLAogICJvcGFjaXR5IjogMS4wLAogICJyYWRpdXMiOiAxMCwKICAic3Ryb2tlIjogdHJ1ZSwKICAid2VpZ2h0IjogMwp9CiAgICAgICAgICAgICAgICApCiAgICAgICAgICAgICAgICAuYWRkVG8oZmVhdHVyZV9ncm91cF8yZGFkZGUzYzhmM2Q0OWI1OWY1MzBjYmNiNmI4NTE0Yik7CiAgICAgICAgICAgIAo8L3NjcmlwdD4= onload=\"this.contentDocument.open();this.contentDocument.write(atob(this.getAttribute('data-html')));this.contentDocument.close();\" allowfullscreen webkitallowfullscreen mozallowfullscreen></iframe></div></div>"
            ],
            "text/plain": [
              "<folium.folium.Map at 0x7fc25be23908>"
            ]
          },
          "metadata": {
            "tags": []
          },
          "execution_count": 89
        }
      ]
    }
  ]
}