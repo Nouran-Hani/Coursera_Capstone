{
  "nbformat": 4,
  "nbformat_minor": 0,
  "metadata": {
    "colab": {
      "name": "Untitled0.ipynb",
      "provenance": [],
      "collapsed_sections": []
    },
    "kernelspec": {
      "name": "python3",
      "display_name": "Python 3"
    }
  },
  "cells": [
    {
      "cell_type": "markdown",
      "metadata": {
        "id": "WBB50GgJJ1IS",
        "colab_type": "text"
      },
      "source": [
        "# Introduction: **Egyptian Restaurants in New York.**"
      ]
    },
    {
      "cell_type": "markdown",
      "metadata": {
        "id": "8xS-ITX9Kld_",
        "colab_type": "text"
      },
      "source": [
        "In this project I'm going to explore the best Egyptian restaurants in New York. I will explore the rating, likes and tips, according to the previus we will get the best Egyptian resturant in New York. It will help many people to try the Egyptian food without any risks.\n"
      ]
    }
  ]
}