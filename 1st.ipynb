{
  "nbformat": 4,
  "nbformat_minor": 0,
  "metadata": {
    "colab": {
      "name": "Untitled0.ipynb",
      "provenance": []
    },
    "kernelspec": {
      "name": "python3",
      "display_name": "Python 3"
    }
  },
  "cells": [
    {
      "cell_type": "code",
      "metadata": {
        "id": "iL0XgQmIJmbe",
        "colab_type": "code",
        "colab": {}
      },
      "source": [
        ""
      ],
      "execution_count": null,
      "outputs": []
    },
    {
      "cell_type": "markdown",
      "metadata": {
        "id": "WBB50GgJJ1IS",
        "colab_type": "text"
      },
      "source": [
        "# Introduction: **Egyptian Restaurants in New Work.**"
      ]
    },
    {
      "cell_type": "markdown",
      "metadata": {
        "id": "8xS-ITX9Kld_",
        "colab_type": "text"
      },
      "source": [
        "In this project I'm going to explore the best Egyptian restaurants in New Work. I will explore the rating, likes and tips, according to the previus we will get the best Egyptian resturant in Work. It will help many people to try the Egyptian food without any risks.\n"
      ]
    }
  ]
}